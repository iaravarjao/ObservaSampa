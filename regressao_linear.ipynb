{
  "nbformat": 4,
  "nbformat_minor": 0,
  "metadata": {
    "colab": {
      "name": "regressao_linear.ipynb",
      "provenance": [],
      "authorship_tag": "ABX9TyMwLtriAxcuHizGHZIL8C0O",
      "include_colab_link": true
    },
    "kernelspec": {
      "name": "python3",
      "display_name": "Python 3"
    },
    "language_info": {
      "name": "python"
    }
  },
  "cells": [
    {
      "cell_type": "markdown",
      "metadata": {
        "id": "view-in-github",
        "colab_type": "text"
      },
      "source": [
        "<a href=\"https://colab.research.google.com/github/iaravarjao/ObservaSampa/blob/main/regressao_linear.ipynb\" target=\"_parent\"><img src=\"https://colab.research.google.com/assets/colab-badge.svg\" alt=\"Open In Colab\"/></a>"
      ]
    },
    {
      "cell_type": "markdown",
      "source": [
        "# **Visualização de gráfico de regressão linear com Google Colab**\n"
      ],
      "metadata": {
        "id": "YtlVlckXIAb2"
      }
    },
    {
      "cell_type": "code",
      "source": [
        "# importar pacotes necessários\n",
        "import pandas as pd\n",
        "import numpy as np\n",
        "import matplotlib.pyplot as plt\n",
        "from sklearn.linear_model import LinearRegression"
      ],
      "metadata": {
        "id": "U6BzbhOeM1et"
      },
      "execution_count": 30,
      "outputs": []
    },
    {
      "cell_type": "code",
      "source": [
        "#ler a base dos dados, substituir vírgulas por ponto, transformar em float\n",
        "base = pd.read_csv('taxa_mortalidade_infantil.csv')\n",
        "\n",
        "df = pd.DataFrame(base)\n",
        "\n",
        "df['taxa'] = df['taxa'].astype(str)\n",
        "df['taxa'] = df['taxa'].str.replace(',', '.')\n",
        "df['taxa'] = df['taxa'].astype(float)"
      ],
      "metadata": {
        "id": "UKFTVyTvNMXr"
      },
      "execution_count": 31,
      "outputs": []
    },
    {
      "cell_type": "code",
      "source": [
        "#criar modelo linear e otimizar\n",
        "\n",
        "eixo_x = df.iloc[:,0].values\n",
        "eixo_y = df.iloc[:,1].values\n",
        "\n",
        "reg = LinearRegression()\n",
        "\n",
        "x = eixo_x.reshape(-1,1)\n",
        "y = eixo_y.reshape(-1,1)\n",
        "reg.fit(x,y)\n",
        "previsao = reg.predict(x)"
      ],
      "metadata": {
        "id": "Y7hMdeOoOMz8"
      },
      "execution_count": 32,
      "outputs": []
    },
    {
      "cell_type": "code",
      "source": [
        "#plotar pontos e retas\n",
        "\n",
        "plt.figure(figsize=(10,5))\n",
        "plt.scatter(eixo_x,eixo_y)\n",
        "plt.plot(x, previsao,\"r--\")\n",
        "plt.title('Taxa de mortalidade infantil')\n",
        "plt.xlabel('Ano')\n",
        "plt.ylabel('Taxa, por mil nascidos vivos')\n",
        "\n",
        "plt.show()\n"
      ],
      "metadata": {
        "colab": {
          "base_uri": "https://localhost:8080/",
          "height": 350
        },
        "id": "b0NwQ05kB4gG",
        "outputId": "47695b29-b0aa-4825-d79a-74f7343d5b90"
      },
      "execution_count": 33,
      "outputs": [
        {
          "output_type": "display_data",
          "data": {
            "text/plain": [
              "<Figure size 720x360 with 1 Axes>"
            ],
            "image/png": "[encoded data removed]"
          },
          "metadata": {
            "needs_background": "light"
          }
        }
      ]
    },
    {
      "cell_type": "code",
      "source": [
        "#verificação de correlação\n",
        "correlacao = np.corrcoef(eixo_x,eixo_y)\n",
        "correlacao\n"
      ],
      "metadata": {
        "colab": {
          "base_uri": "https://localhost:8080/"
        },
        "id": "Jj84wxM8MM-P",
        "outputId": "80882e99-7569-473d-c202-eebd487d8a40"
      },
      "execution_count": 34,
      "outputs": [
        {
          "output_type": "execute_result",
          "data": {
            "text/plain": [
              "array([[ 1.        , -0.83555828],\n",
              "       [-0.83555828,  1.        ]])"
            ]
          },
          "metadata": {},
          "execution_count": 34
        }
      ]
    }
  ]
}